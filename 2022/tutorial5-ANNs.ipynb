{
 "cells": [
  {
   "cell_type": "markdown",
   "id": "5da852a8",
   "metadata": {},
   "source": [
    "# Tutorial 5"
   ]
  },
  {
   "cell_type": "markdown",
   "id": "b93cf3ec",
   "metadata": {},
   "source": [
    "## Stochastic Gradient Descent\n",
    "\n",
    "Suppose we have an ANN $F_{\\theta}$ and a certain loss function $\\ell(\\theta)$. One update rule has the form\n",
    "$$\n",
    "\\theta^{(k+1)} \\leftarrow \\theta^{(k)} - \\eta \\nabla_{\\theta} \\, \\ell(\\theta)\\Big|_{\\theta = \\theta^{(k)}}\n",
    "$$\n",
    "with a learning rate $\\eta>0$. We use mini-batches of data points to compute the gradient of the loss function $\\ell$. Other updates rules often used in the literature:\n",
    "\n",
    "- ADAM\n",
    "- AdaGrad\n",
    "- AdaBoost\n",
    "- Momentum"
   ]
  },
  {
   "cell_type": "markdown",
   "id": "e87b54a6",
   "metadata": {},
   "source": [
    "## Back-propagation\n",
    "\n",
    "How to compute the gradient $\\nabla_{\\theta} \\, \\ell(\\theta)|_{\\theta = \\theta^{(k)}}$ for general models? For ANNs, back-propagation (backprop) breaks the gradient computations into smaller pieces."
   ]
  },
  {
   "cell_type": "markdown",
   "id": "faa2d39e",
   "metadata": {},
   "source": [
    "#### Example: Training of a multi-layer neural network\n",
    "\n",
    "In this example, we perform classification on a dataset from the scikit-learn library."
   ]
  },
  {
   "cell_type": "code",
   "execution_count": 1,
   "id": "e918f341",
   "metadata": {},
   "outputs": [],
   "source": [
    "import numpy as np\n",
    "\n",
    "import matplotlib.pyplot as plt \n",
    "\n",
    "import torch # PyTorch library\n",
    "import torch.nn as nn # all layers e.g. Recurrent neural network (RNN), etc.\n",
    "import torch.nn.functional as F # all activation functions\n",
    "import torch.optim as optim # all optimization procedures, e.g. stochastic gradient descent (SGD), Adam, etc.\n",
    "\n",
    "from sklearn import datasets # iris dataset"
   ]
  },
  {
   "cell_type": "code",
   "execution_count": 2,
   "id": "4bf4cf2a",
   "metadata": {},
   "outputs": [],
   "source": [
    "# load the dataset (other examples here: https://scikit-learn.org/stable/datasets/toy_dataset.html)\n",
    "data = datasets.load_breast_cancer()\n",
    "features = data.data\n",
    "labels = data.target\n",
    "# print(data.DESCR)\n",
    "\n",
    "# Homework: split the dataset into training/testing"
   ]
  },
  {
   "cell_type": "markdown",
   "id": "6c012b75",
   "metadata": {},
   "source": [
    "Next, we modify the ANN class we created last week for this classification task."
   ]
  },
  {
   "cell_type": "code",
   "execution_count": 3,
   "id": "adf2417c",
   "metadata": {},
   "outputs": [],
   "source": [
    "class MyClassNet(nn.Module):\n",
    "    # constructor\n",
    "    def __init__(self, nInputs, nNodes, nLayers, nOutputs):\n",
    "        super(MyClassNet, self).__init__()\n",
    "        \n",
    "        # single input layer\n",
    "        self.prop_in_to_h = nn.Linear(nInputs, nNodes[0])\n",
    "        \n",
    "        # nLayers-1 hidden layers\n",
    "        self.props_h_to_h = nn.ModuleList([nn.Linear(nNodes[i], nNodes[i+1]) for i in range(nLayers-1)])\n",
    "        \n",
    "        # single output layer\n",
    "        self.prop_h_to_out = nn.Linear(nNodes[-1], nOutputs)\n",
    "\n",
    "    def forward(self, x):\n",
    "        \n",
    "        # input layer with sigmoid as activation function\n",
    "        h = torch.sigmoid(self.prop_in_to_h(x))\n",
    "        \n",
    "        # hidden layers with ReLU as activation function\n",
    "        for prop in self.props_h_to_h:\n",
    "            h = torch.relu(prop(h))\n",
    "        \n",
    "        # output layer with no activation\n",
    "        y = torch.softmax(self.prop_h_to_out(h), dim=1)\n",
    "        \n",
    "        return y"
   ]
  },
  {
   "cell_type": "code",
   "execution_count": 4,
   "id": "0048281e",
   "metadata": {},
   "outputs": [
    {
     "data": {
      "text/plain": [
       "MyClassNet(\n",
       "  (prop_in_to_h): Linear(in_features=30, out_features=16, bias=True)\n",
       "  (props_h_to_h): ModuleList(\n",
       "    (0): Linear(in_features=16, out_features=32, bias=True)\n",
       "    (1): Linear(in_features=32, out_features=32, bias=True)\n",
       "    (2): Linear(in_features=32, out_features=16, bias=True)\n",
       "  )\n",
       "  (prop_h_to_out): Linear(in_features=16, out_features=2, bias=True)\n",
       ")"
      ]
     },
     "execution_count": 4,
     "metadata": {},
     "output_type": "execute_result"
    }
   ],
   "source": [
    "N_hidden = [16, 32, 32, 16] # number of hidden nodes\n",
    "N_layers = 4 # number of layers\n",
    "N_inputs = np.shape(features)[1] # number of features\n",
    "N_classes = len(np.unique(labels)) # number of classes to predict\n",
    "seed = 1234\n",
    "\n",
    "# set random seed\n",
    "torch.manual_seed(seed) # pytorch\n",
    "np.random.seed(seed) # numpy\n",
    "\n",
    "net = MyClassNet(N_inputs, N_hidden, N_layers, N_classes)\n",
    "net"
   ]
  },
  {
   "cell_type": "code",
   "execution_count": 5,
   "id": "b1c2c335",
   "metadata": {},
   "outputs": [
    {
     "data": {
      "text/plain": [
       "0.6274165202108963"
      ]
     },
     "execution_count": 5,
     "metadata": {},
     "output_type": "execute_result"
    }
   ],
   "source": [
    "# compute the accuracy (pre-trained)\n",
    "pred_probs = net(torch.tensor(features, dtype=torch.float))\n",
    "pred_values = torch.argmax(pred_probs, dim=1).detach().numpy()\n",
    "np.sum(pred_values == labels) / len(features)"
   ]
  },
  {
   "cell_type": "code",
   "execution_count": 6,
   "id": "fab0e425",
   "metadata": {},
   "outputs": [],
   "source": [
    "def FitClassNet(net, mini_batch_size, Nepochs):\n",
    "    \n",
    "    print(net)\n",
    "    \n",
    "    # create  optimizer (instance of gradient descent method)\n",
    "    optimizer = optim.Adam(net.parameters(), lr=0.005)\n",
    "    CrossEntropyLoss = nn.CrossEntropyLoss()\n",
    "    \n",
    "    # we can customize the loss for our application, i.e.\n",
    "    # loss_fn = torch.sqrt(torch.mean((outputs - target)**2))\n",
    "    \n",
    "    loss_hist = []\n",
    "    \n",
    "    for epoch in range(Nepochs):  # loop over the dataset multiple times\n",
    "\n",
    "        # grab a minibatch\n",
    "        batch_idx = np.random.choice(len(features), size=mini_batch_size, replace=False)\n",
    "        features_batch = features[batch_idx]\n",
    "        labels_batch = labels[batch_idx]\n",
    "\n",
    "        # the target function\n",
    "        targets = torch.tensor(labels_batch, dtype=torch.long)\n",
    "\n",
    "        # zero the parameter gradients\n",
    "        optimizer.zero_grad()\n",
    "\n",
    "        # push inputs forward through the whole net\n",
    "        outputs = net(torch.tensor(features_batch, dtype=torch.float))\n",
    "        \n",
    "        # compute the loss associated with this output\n",
    "        loss = CrossEntropyLoss(outputs, targets)\n",
    "\n",
    "        # propogate the sensitivity of the output to the model parameters \n",
    "        # backwards through the computational graph\n",
    "        loss.backward()\n",
    "\n",
    "        # update the weights and biases by taking a SGD step\n",
    "        optimizer.step()\n",
    "\n",
    "        # store running loss\n",
    "        loss_hist.append(  loss.item() )\n",
    "        \n",
    "        # print progress every 250 iterations\n",
    "        if( ( epoch % 250 == 0) and (epoch > 10) ):\n",
    "            print(epoch)\n",
    "\n",
    "            \n",
    "    print(epoch)\n",
    "    fig, axes = plt.subplots(figsize=(8,5))\n",
    "    axes.plot(loss_hist)\n",
    "    axes.set_title('Loss history', fontsize=22)\n",
    "    axes.set_xlabel('Number of epochs', fontsize=18)\n",
    "    axes.set_ylabel('Loss', fontsize=18)\n",
    "    # axes.set_yscale('log')\n",
    "    axes.tick_params(axis='both', labelsize=16)\n",
    "    plt.tight_layout(pad=2)\n",
    "    plt.show()\n",
    "\n",
    "    print('Finished Training')\n",
    "    \n",
    "    return loss_hist, net"
   ]
  },
  {
   "cell_type": "code",
   "execution_count": 7,
   "id": "2081fdcd",
   "metadata": {},
   "outputs": [
    {
     "name": "stdout",
     "output_type": "stream",
     "text": [
      "MyClassNet(\n",
      "  (prop_in_to_h): Linear(in_features=30, out_features=16, bias=True)\n",
      "  (props_h_to_h): ModuleList(\n",
      "    (0): Linear(in_features=16, out_features=32, bias=True)\n",
      "    (1): Linear(in_features=32, out_features=32, bias=True)\n",
      "    (2): Linear(in_features=32, out_features=16, bias=True)\n",
      "  )\n",
      "  (prop_h_to_out): Linear(in_features=16, out_features=2, bias=True)\n",
      ")\n",
      "250\n",
      "500\n",
      "750\n",
      "1000\n",
      "1250\n",
      "1500\n",
      "1750\n",
      "2000\n",
      "2250\n",
      "2500\n",
      "2750\n",
      "3000\n",
      "3250\n",
      "3500\n",
      "3750\n",
      "4000\n",
      "4250\n",
      "4500\n",
      "4750\n",
      "4999\n"
     ]
    },
    {
     "data": {
      "image/png": "[encoded data removed]",
      "text/plain": [
       "<Figure size 576x360 with 1 Axes>"
      ]
     },
     "metadata": {
      "needs_background": "light"
     },
     "output_type": "display_data"
    },
    {
     "name": "stdout",
     "output_type": "stream",
     "text": [
      "Finished Training\n"
     ]
    }
   ],
   "source": [
    "loss_hist, trained_classnet = FitClassNet(net, mini_batch_size=100, Nepochs=5000)"
   ]
  },
  {
   "cell_type": "code",
   "execution_count": 8,
   "id": "c4e8ccb5",
   "metadata": {},
   "outputs": [],
   "source": [
    "# compute the accuracy (trained net)\n",
    "pred_probs = trained_classnet(torch.tensor(features, dtype=torch.float))\n",
    "pred_values = torch.argmax(pred_probs, dim=1).detach().numpy()"
   ]
  },
  {
   "cell_type": "code",
   "execution_count": 9,
   "id": "f943aee9",
   "metadata": {},
   "outputs": [
    {
     "data": {
      "text/plain": [
       "0.8857644991212654"
      ]
     },
     "execution_count": 9,
     "metadata": {},
     "output_type": "execute_result"
    }
   ],
   "source": [
    "np.sum(pred_values == labels) / len(features)"
   ]
  }
 ],
 "metadata": {
  "kernelspec": {
   "display_name": "Python 3 (ipykernel)",
   "language": "python",
   "name": "python3"
  },
  "language_info": {
   "codemirror_mode": {
    "name": "ipython",
    "version": 3
   },
   "file_extension": ".py",
   "mimetype": "text/x-python",
   "name": "python",
   "nbconvert_exporter": "python",
   "pygments_lexer": "ipython3",
   "version": "3.9.7"
  }
 },
 "nbformat": 4,
 "nbformat_minor": 5
}
