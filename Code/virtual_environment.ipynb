{
 "cells": [
  {
   "cell_type": "markdown",
   "id": "9d08ae6b",
   "metadata": {},
   "source": [
    "# Creation of virtual environments in JupyterHub\n",
    "\n",
    "We want to create a virtual environment in order to install our own packages. For instance, we can install PyTorch or TensorFlow to create neural network structures. This [tutorial](https://towardsdatascience.com/creating-and-using-virtual-environment-on-jupyter-notebook-with-python-db3f5afdd56a) can also be useful.\n",
    "\n",
    "Note that all these commands need to be performed in the terminal."
   ]
  },
  {
   "cell_type": "code",
   "execution_count": null,
   "id": "8d635cf8",
   "metadata": {},
   "outputs": [],
   "source": [
    "# Get the Python version\n",
    "! python --version"
   ]
  },
  {
   "cell_type": "code",
   "execution_count": null,
   "id": "22a909b9",
   "metadata": {},
   "outputs": [],
   "source": [
    "# Create the virtual environment\n",
    "! conda create -n myenv python 3.8"
   ]
  },
  {
   "cell_type": "code",
   "execution_count": null,
   "id": "2b57979f",
   "metadata": {},
   "outputs": [],
   "source": [
    "# Activate the virtual environment\n",
    "! source activate myenv"
   ]
  },
  {
   "cell_type": "code",
   "execution_count": null,
   "id": "72920ca3",
   "metadata": {},
   "outputs": [],
   "source": [
    "# Install any packages\n",
    "! conda install pytorch torchvision -c pytorch"
   ]
  },
  {
   "cell_type": "code",
   "execution_count": null,
   "id": "96f94555",
   "metadata": {},
   "outputs": [],
   "source": [
    "# Manually create a new document from our virtual environment\n",
    "! pip install --user ipykernel\n",
    "! python -m ipykernel install --user --name=myenv"
   ]
  },
  {
   "cell_type": "code",
   "execution_count": null,
   "id": "4d52e2e5",
   "metadata": {},
   "outputs": [],
   "source": [
    "# Removing the new document\n",
    "! jupyter kernelspec uninstall myenv"
   ]
  },
  {
   "cell_type": "markdown",
   "id": "fc14706c",
   "metadata": {},
   "source": [
    "If the installation of the PyTorch packages and the creation of a virtual environment are done properly, we should be able to run the following commands. If it is not working, make sure that the kernel is correct (i.e. \"Kernel\" -> \"Change kernel\" -> \"myenv\")."
   ]
  },
  {
   "cell_type": "code",
   "execution_count": 1,
   "id": "31ebb9d4",
   "metadata": {},
   "outputs": [
    {
     "data": {
      "text/plain": [
       "tensor([[0.1438, 0.6853],\n",
       "        [0.2232, 0.5662],\n",
       "        [0.9515, 0.5367],\n",
       "        [0.0020, 0.8385]])"
      ]
     },
     "execution_count": 1,
     "metadata": {},
     "output_type": "execute_result"
    }
   ],
   "source": [
    "import torch as T\n",
    "T.rand(4,2)"
   ]
  }
 ],
 "metadata": {
  "kernelspec": {
   "display_name": "myenv",
   "language": "python",
   "name": "myenv"
  },
  "language_info": {
   "codemirror_mode": {
    "name": "ipython",
    "version": 3
   },
   "file_extension": ".py",
   "mimetype": "text/x-python",
   "name": "python",
   "nbconvert_exporter": "python",
   "pygments_lexer": "ipython3",
   "version": "3.9.7"
  }
 },
 "nbformat": 4,
 "nbformat_minor": 5
}
